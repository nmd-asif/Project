{
 "cells": [
  {
   "cell_type": "code",
   "execution_count": null,
   "metadata": {},
   "outputs": [],
   "source": [
    "import spacy\n",
    "import pandas as pd\n",
    "from nltk.tokenize import word_tokenize\n",
    "from nltk.corpus import stopwords\n",
    "from sklearn.feature_extraction.text import TfidfVectorizer\n",
    "from gensim.models import KeyedVectors\n",
    "from sklearn.metrics.pairwise import cosine_similarity\n",
    "import numpy as np\n",
    "from sentence_transformers import SentenceTransformer, util"
   ]
  },
  {
   "cell_type": "code",
   "execution_count": null,
   "metadata": {},
   "outputs": [],
   "source": [
    "nlp = spacy.load('en_core_web_lg') \n",
    "sbert_model = SentenceTransformer('all-MiniLM-L6-v2')\n",
    "word2vec_model = KeyedVectors.load_word2vec_format('GoogleNews-vectors-negative300.bin', binary=True)"
   ]
  },
  {
   "cell_type": "code",
   "execution_count": null,
   "metadata": {},
   "outputs": [],
   "source": [
    "NUM_STUDENTS = 5  # Number of students to process\n",
    "SCORE_SCALE = 5   # Maximum score for final output\n",
    "\n",
    "def preprocess_text(text):\n",
    "    if not isinstance(text, str):  \n",
    "        return \"\"\n",
    "    text = text.lower()\n",
    "    tokens = word_tokenize(text)\n",
    "    tokens = [word for word in tokens if word.isalnum()]\n",
    "    stop_words = set(stopwords.words('english'))\n",
    "    tokens = [word for word in tokens if word not in stop_words]\n",
    "    doc = nlp(\" \".join(tokens))\n",
    "    lemmatized_tokens = [token.lemma_ for token in doc]\n",
    "    return \" \".join(lemmatized_tokens)\n",
    "\n",
    "def compute_sbert_similarity(sent1, sent2):\n",
    "    embedding1 = sbert_model.encode(sent1, convert_to_tensor=True)  # Convert sentence to vector\n",
    "    embedding2 = sbert_model.encode(sent2, convert_to_tensor=True)\n",
    "    similarity = util.pytorch_cos_sim(embedding1, embedding2).item()  # Compute cosine similarity\n",
    "    return max(0, min(1, similarity))  # Ensure similarity stays between 0 and 1\n",
    "\n",
    "def compute_word2vec_similarity(sent1, sent2):\n",
    "    \"\"\"\n",
    "    Compute cosine similarity using pretrained GoogleNews Word2Vec embeddings.\n",
    "    Provides word-level similarity with richer vocabulary.\n",
    "    \"\"\"\n",
    "    def sentence_vector(words):\n",
    "        valid_words = [word for word in words if word in word2vec_model]  # Filter words in pretrained vocab\n",
    "        if not valid_words:  # Return zero vector if no valid words\n",
    "            return np.zeros(300)  # GoogleNews uses 300-dimensional vectors\n",
    "        return np.mean([word2vec_model[word] for word in valid_words], axis=0)\n",
    "    \n",
    "    vec1 = sentence_vector(sent1.split())\n",
    "    vec2 = sentence_vector(sent2.split())\n",
    "    similarity = cosine_similarity([vec1], [vec2])[0][0]  # Compute cosine similarity\n",
    "    return max(0, min(1, similarity))"
   ]
  },
  {
   "cell_type": "code",
   "execution_count": null,
   "metadata": {},
   "outputs": [],
   "source": [
    "df = pd.read_excel(\"QnA.xlsx\") \n",
    "\n",
    "expected_columns = [\"S.No\", \"Questions\", \"Expected Answers\"] + [f\"Student{i} Answers\" for i in range(1, NUM_STUDENTS + 1)]\n",
    "if not all(col in df.columns for col in expected_columns):\n",
    "    raise ValueError(\"Input Excel file is missing required columns!\")\n",
    "\n",
    "# Prepare TF-IDF vectorizer with all text data for consistent vocabulary\n",
    "tfidf_vectorizer = TfidfVectorizer()\n",
    "tfidf_corpus = df.iloc[:, 2:].map(preprocess_text).values.flatten()  # All answer columns\n",
    "tfidf_vectorizer.fit(tfidf_corpus)  # Fit on entire corpus for better term weighting"
   ]
  },
  {
   "cell_type": "code",
   "execution_count": null,
   "metadata": {},
   "outputs": [],
   "source": [
    "# Dictionary to store results for each student, including raw scores for comparison\n",
    "results = {\n",
    "    f\"Student{i}\": {\n",
    "        \"TF-IDF\": [],\n",
    "        \"Word2Vec\": [], \n",
    "        \"Semantic\": [],\n",
    "        \"Total\": [],\n",
    "        \"RawScore\": [] \n",
    "    } for i in range(1, NUM_STUDENTS + 1)\n",
    "}\n",
    "\n",
    "\n",
    "# Process each question row\n",
    "for index, row in df.iterrows():\n",
    "    expected_answer = preprocess_text(row[\"Expected Answers\"])  # Preprocess reference answer\n",
    "    \n",
    "    # Compare each student's answer to the expected answer\n",
    "    for i in range(1, NUM_STUDENTS + 1):\n",
    "        student_answer = preprocess_text(row[f\"Student{i} Answers\"])\n",
    "        \n",
    "        # TF-IDF Similarity: Focuses on exact word overlap and frequency\n",
    "        tfidf_matrix = tfidf_vectorizer.transform([expected_answer, student_answer])\n",
    "        tfidf_similarity = cosine_similarity(tfidf_matrix[0], tfidf_matrix[1])[0][0]\n",
    "        results[f\"Student{i}\"][\"TF-IDF\"].append(tfidf_similarity)\n",
    "        \n",
    "        # Word2Vec Similarity: Captures word relationships within the pair\n",
    "        word2vec_similarity = compute_word2vec_similarity(expected_answer, student_answer)\n",
    "        results[f\"Student{i}\"][\"Word2Vec\"].append(word2vec_similarity)\n",
    "        \n",
    "        # SBERT Similarity: Understands deeper semantic meaning\n",
    "        semantic_similarity = compute_sbert_similarity(expected_answer, student_answer)\n",
    "        results[f\"Student{i}\"][\"Semantic\"].append(semantic_similarity)\n",
    "        \n",
    "        # Compute total score as an average, scaled to SCORE_SCALE (5)\n",
    "        avg_score = (tfidf_similarity + word2vec_similarity + semantic_similarity) / 3\n",
    "        total_score_numeric = round(avg_score * SCORE_SCALE, 1)  # Numeric score for comparison\n",
    "        total_score_str = f\"{total_score_numeric}/{SCORE_SCALE}\"  # Formatted string for display\n",
    "        results[f\"Student{i}\"][\"Total\"].append(total_score_str)\n",
    "        results[f\"Student{i}\"][\"RawScore\"].append(total_score_numeric)  # Store numeric score\n",
    "\n",
    "# Add results to DataFrame with descriptive column names\n",
    "for i in range(1, NUM_STUDENTS + 1):\n",
    "    prefix = f\"Student{i}\"\n",
    "    df[f\"{prefix} TF-IDF Similarity\"] = results[prefix][\"TF-IDF\"]\n",
    "    df[f\"{prefix} Word2Vec Similarity\"] = results[prefix][\"Word2Vec\"]\n",
    "    df[f\"{prefix} Semantic Similarity\"] = results[prefix][\"Semantic\"]\n",
    "    df[f\"{prefix} Total Score\"] = results[prefix][\"Total\"]"
   ]
  },
  {
   "cell_type": "code",
   "execution_count": null,
   "metadata": {},
   "outputs": [],
   "source": [
    "def get_highest_scorer(row):\n",
    "\n",
    "    scores = [row[f\"Student{i} Total Score\"] for i in range(1, NUM_STUDENTS + 1)]  # Get all total scores\n",
    "    numeric_scores = [float(score.split('/')[0]) for score in scores]  # Extract numeric part (e.g., 4.3 from \"4.3/5\")\n",
    "    max_score = max(numeric_scores)  # Find the highest score\n",
    "    \n",
    "    # Identify all students with the maximum score (to handle ties)\n",
    "    top_students = [\n",
    "        f\"Student{i}\" for i in range(1, NUM_STUDENTS + 1)\n",
    "        if numeric_scores[i-1] == max_score\n",
    "    ]\n",
    "    return \", \".join(top_students)  # Return as comma-separated string (e.g., \"Student1, Student3\")\n",
    "\n",
    "# Add the new column to the DataFrame\n",
    "df[\"Highest Scoring Student\"] = df.apply(get_highest_scorer, axis=1)\n",
    "# ---------------------------------------"
   ]
  },
  {
   "cell_type": "code",
   "execution_count": null,
   "metadata": {},
   "outputs": [],
   "source": [
    "output_file = \"sbert_output.xlsx\"\n",
    "df.to_excel(output_file, index=False)\n",
    "print(f\"Output File '{output_file}' is Saved Successfully\")"
   ]
  }
 ],
 "metadata": {
  "kernelspec": {
   "display_name": "Python 3 (ipykernel)",
   "language": "python",
   "name": "python3"
  },
  "language_info": {
   "codemirror_mode": {
    "name": "ipython",
    "version": 3
   },
   "file_extension": ".py",
   "mimetype": "text/x-python",
   "name": "python",
   "nbconvert_exporter": "python",
   "pygments_lexer": "ipython3",
   "version": "3.11.0"
  }
 },
 "nbformat": 4,
 "nbformat_minor": 4
}
